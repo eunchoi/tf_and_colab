{
  "nbformat": 4,
  "nbformat_minor": 0,
  "metadata": {
    "colab": {
      "name": "tf_and_colab.ipynb",
      "version": "0.3.2",
      "provenance": [],
      "collapsed_sections": [],
      "include_colab_link": true
    },
    "kernelspec": {
      "name": "python3",
      "display_name": "Python 3"
    }
  },
  "cells": [
    {
      "cell_type": "markdown",
      "metadata": {
        "id": "view-in-github",
        "colab_type": "text"
      },
      "source": [
        "<a href=\"https://colab.research.google.com/github/georgeliu1998/tf_and_colab/blob/master/tf_and_colab.ipynb\" target=\"_parent\"><img src=\"https://colab.research.google.com/assets/colab-badge.svg\" alt=\"Open In Colab\"/></a>"
      ]
    },
    {
      "metadata": {
        "id": "bEf39ec2oxnk",
        "colab_type": "text"
      },
      "cell_type": "markdown",
      "source": [
        "## Set up the Environment"
      ]
    },
    {
      "metadata": {
        "id": "8ca5cfMGBv5S",
        "colab_type": "code",
        "colab": {}
      },
      "cell_type": "code",
      "source": [
        "import numpy as np\n",
        "import tensorflow as tf\n",
        "import matplotlib.pyplot as plt"
      ],
      "execution_count": 0,
      "outputs": []
    },
    {
      "metadata": {
        "id": "xZ5mZWagHNgF",
        "colab_type": "code",
        "outputId": "16cb524c-c923-48a8-ca88-e78286884b84",
        "colab": {
          "base_uri": "https://localhost:8080/",
          "height": 187
        }
      },
      "cell_type": "code",
      "source": [
        "# Check TensorFlow versions\n",
        "!pip show tensorflow"
      ],
      "execution_count": 2,
      "outputs": [
        {
          "output_type": "stream",
          "text": [
            "Name: tensorflow\n",
            "Version: 1.12.0\n",
            "Summary: TensorFlow is an open source machine learning framework for everyone.\n",
            "Home-page: https://www.tensorflow.org/\n",
            "Author: Google Inc.\n",
            "Author-email: opensource@google.com\n",
            "License: Apache 2.0\n",
            "Location: /usr/local/lib/python3.6/dist-packages\n",
            "Requires: protobuf, tensorboard, wheel, grpcio, gast, six, absl-py, numpy, termcolor, keras-preprocessing, keras-applications, astor\n",
            "Required-by: stable-baselines, magenta, fancyimpute\n"
          ],
          "name": "stdout"
        }
      ]
    },
    {
      "metadata": {
        "id": "l5KlNi7Yo47w",
        "colab_type": "text"
      },
      "cell_type": "markdown",
      "source": [
        "## Colab Essentials"
      ]
    },
    {
      "metadata": {
        "id": "mLa4liIS11kb",
        "colab_type": "text"
      },
      "cell_type": "markdown",
      "source": [
        "#### Opening up a New Noetbook\n",
        "For the very first time using Colab, you can visit [here](https://colab.research.google.com/). Once you have a notebook created, it'll be saved in your Google Drive. You can access it by visiting your Google Drive page, then either double click on the file name or right click and Open with Colab. \n"
      ]
    },
    {
      "metadata": {
        "id": "Cq4M4kphfWsh",
        "colab_type": "text"
      },
      "cell_type": "markdown",
      "source": [
        "#### Shortcuts\n",
        "\n",
        "- Run cell: \"Shift + Eneter\"\n",
        "- Delete cell: \"Ctrl + M, then D\"\n",
        "- Undo: \"Ctrl + Shift + Z\"\n",
        "- Convert to code cell: \"Ctrl + M, then Y\"\n",
        "- Convert to markdown cell: \"Ctrl + M, then M\"\n",
        "- Save notebook: \"Ctrl + S\"\n",
        "- Open up the shortcut screen: \"Ctrl + M, then H\"\n"
      ]
    },
    {
      "metadata": {
        "colab_type": "code",
        "id": "mAqaMlh0fpcd",
        "outputId": "1148f2e8-2d76-45cd-fbc4-7859f7a91cbb",
        "colab": {
          "base_uri": "https://localhost:8080/",
          "height": 34
        }
      },
      "cell_type": "code",
      "source": [
        "# A random cell to be deleted\n",
        "print(\"Colab -> is cool\")"
      ],
      "execution_count": 3,
      "outputs": [
        {
          "output_type": "stream",
          "text": [
            "Colab -> is cool\n"
          ],
          "name": "stdout"
        }
      ]
    },
    {
      "metadata": {
        "id": "vRBQ2gp2tBPJ",
        "colab_type": "text"
      },
      "cell_type": "markdown",
      "source": [
        "#### Connecting with GitHub\n",
        "\n",
        "\"File\" --> \"Save a copy in GitHub\""
      ]
    },
    {
      "metadata": {
        "id": "sXReAo4YpL86",
        "colab_type": "text"
      },
      "cell_type": "markdown",
      "source": [
        "## Several Quick Examples"
      ]
    },
    {
      "metadata": {
        "id": "anlrl0tjqjRN",
        "colab_type": "text"
      },
      "cell_type": "markdown",
      "source": [
        "#### Constant and Variable"
      ]
    },
    {
      "metadata": {
        "id": "DbcIXRyv8cze",
        "colab_type": "code",
        "colab": {}
      },
      "cell_type": "code",
      "source": [
        "# Define two TensorFlow constants\n",
        "a = tf.constant(1, name='a_var')          \n",
        "b = tf.constant(2, name='b_bar')              "
      ],
      "execution_count": 0,
      "outputs": []
    },
    {
      "metadata": {
        "id": "VVn8yWcfaRdS",
        "colab_type": "code",
        "outputId": "a2c59545-02b5-443e-b354-6147386d5677",
        "colab": {
          "base_uri": "https://localhost:8080/",
          "height": 34
        }
      },
      "cell_type": "code",
      "source": [
        "# See what the constant a is\n",
        "a"
      ],
      "execution_count": 5,
      "outputs": [
        {
          "output_type": "execute_result",
          "data": {
            "text/plain": [
              "<tf.Tensor 'a_var:0' shape=() dtype=int32>"
            ]
          },
          "metadata": {
            "tags": []
          },
          "execution_count": 5
        }
      ]
    },
    {
      "metadata": {
        "id": "oHRDFr3AlR7c",
        "colab_type": "code",
        "colab": {}
      },
      "cell_type": "code",
      "source": [
        "# Define a variable c\n",
        "c = tf.Variable(a + b)  "
      ],
      "execution_count": 0,
      "outputs": []
    },
    {
      "metadata": {
        "id": "D0Y86dwwaTyK",
        "colab_type": "code",
        "outputId": "bf83efb8-fac0-414c-8452-4d1e62b133ec",
        "colab": {
          "base_uri": "https://localhost:8080/",
          "height": 34
        }
      },
      "cell_type": "code",
      "source": [
        "# Check out c\n",
        "c"
      ],
      "execution_count": 7,
      "outputs": [
        {
          "output_type": "execute_result",
          "data": {
            "text/plain": [
              "<tf.Variable 'Variable:0' shape=() dtype=int32_ref>"
            ]
          },
          "metadata": {
            "tags": []
          },
          "execution_count": 7
        }
      ]
    },
    {
      "metadata": {
        "id": "NB4C5ijDqx4M",
        "colab_type": "text"
      },
      "cell_type": "markdown",
      "source": [
        "#### Session"
      ]
    },
    {
      "metadata": {
        "id": "yCSC-2dZlT6g",
        "colab_type": "code",
        "outputId": "27619033-a434-44d2-adb3-c9e6dab4f8d3",
        "colab": {
          "base_uri": "https://localhost:8080/",
          "height": 34
        }
      },
      "cell_type": "code",
      "source": [
        "# Initialize all variables and run the computational graph\n",
        "init = tf.global_variables_initializer()         \n",
        "                                                 \n",
        "with tf.Session() as session:                    \n",
        "    session.run(init)                            \n",
        "    print(session.run(c))  "
      ],
      "execution_count": 8,
      "outputs": [
        {
          "output_type": "stream",
          "text": [
            "3\n"
          ],
          "name": "stdout"
        }
      ]
    },
    {
      "metadata": {
        "id": "GakUyY5vlzsY",
        "colab_type": "text"
      },
      "cell_type": "markdown",
      "source": [
        "#### Placeholder\n",
        "\n",
        "Now let's show the use of placeholder. We'll first use a parabola equation as below:\n",
        "\n",
        "$y = a x^2+bx+c$\n",
        "\n",
        "Here, imagine x, instead of just one number, it's a list of numbers (vector). To calculate the corresponding y value for each x value, we can use placeholder."
      ]
    },
    {
      "metadata": {
        "colab_type": "code",
        "id": "rYzKUwolbj7U",
        "colab": {}
      },
      "cell_type": "code",
      "source": [
        "a = tf.constant(1, dtype=tf.float32)\n",
        "b = tf.constant(-20, dtype=tf.float32)\n",
        "c = tf.constant(-100, dtype=tf.float32)"
      ],
      "execution_count": 0,
      "outputs": []
    },
    {
      "metadata": {
        "colab_type": "code",
        "id": "w_Rx6po9bjzU",
        "colab": {}
      },
      "cell_type": "code",
      "source": [
        "x = tf.placeholder(dtype=tf.float32)"
      ],
      "execution_count": 0,
      "outputs": []
    },
    {
      "metadata": {
        "colab_type": "code",
        "id": "JPBcHbY0bjnV",
        "colab": {}
      },
      "cell_type": "code",
      "source": [
        "y = a * (x ** 2) + b * x + c"
      ],
      "execution_count": 0,
      "outputs": []
    },
    {
      "metadata": {
        "id": "DMi1fat6GNFI",
        "colab_type": "code",
        "colab": {}
      },
      "cell_type": "code",
      "source": [
        "x_feed = np.linspace(-10, 30, num=10)"
      ],
      "execution_count": 0,
      "outputs": []
    },
    {
      "metadata": {
        "id": "Dl_kL56aQ2ZK",
        "colab_type": "code",
        "colab": {}
      },
      "cell_type": "code",
      "source": [
        "with tf.Session() as sess:\n",
        "  results = sess.run(y, feed_dict={x: x_feed})"
      ],
      "execution_count": 0,
      "outputs": []
    },
    {
      "metadata": {
        "id": "7FHFb7KkTikf",
        "colab_type": "code",
        "outputId": "89dba3a8-c5e9-4518-9ef9-750c5a742f3a",
        "colab": {
          "base_uri": "https://localhost:8080/",
          "height": 51
        }
      },
      "cell_type": "code",
      "source": [
        "print(results)"
      ],
      "execution_count": 14,
      "outputs": [
        {
          "output_type": "stream",
          "text": [
            "[ 200.         41.975304  -76.54321  -155.55554  -195.06174  -195.06174\n",
            " -155.55554   -76.54324    41.97534   200.      ]\n"
          ],
          "name": "stdout"
        }
      ]
    },
    {
      "metadata": {
        "id": "cGjt7YwTpTYZ",
        "colab_type": "text"
      },
      "cell_type": "markdown",
      "source": [
        "## A Mini Project"
      ]
    },
    {
      "metadata": {
        "id": "OwFlYT7KrmTa",
        "colab_type": "text"
      },
      "cell_type": "markdown",
      "source": [
        "#### "
      ]
    },
    {
      "metadata": {
        "id": "4Grz7gwKtpI4",
        "colab_type": "code",
        "outputId": "3f6eeb84-42b9-4e2d-83db-d379d64560d0",
        "colab": {
          "base_uri": "https://localhost:8080/",
          "height": 170
        }
      },
      "cell_type": "code",
      "source": [
        "# A simple example taken from TensorFlow Guide: https://www.tensorflow.org/guide/low_level_intro\n",
        "\n",
        "# Define the placeholders\n",
        "x = tf.placeholder(dtype=tf.float32, shape=(None, 1))\n",
        "y_true = tf.placeholder(dtype=tf.float32, shape=(None, 1))\n",
        "\n",
        "# Create the model\n",
        "linear_model = tf.layers.Dense(units=1, \n",
        "                               bias_initializer=tf.constant_initializer(1))\n",
        "y_pred = linear_model(x)\n",
        "\n",
        "# Define the loss function\n",
        "loss = tf.losses.mean_squared_error(labels=y_true, \n",
        "                                    predictions=y_pred)\n",
        "\n",
        "# Define the optimizer\n",
        "optimizer = tf.train.GradientDescentOptimizer(0.01)\n",
        "train = optimizer.minimize(loss)\n",
        "\n",
        "#Initialize all variables (weights and biases in the defined layer above)\n",
        "init = tf.global_variables_initializer()\n",
        "\n",
        "# Provide the training examples\n",
        "x_values = np.array([[1], [2], [3], [4]])\n",
        "y_values = np.array([[0], [-1], [-2], [-3]])\n",
        "\n",
        "with tf.Session() as sess:\n",
        "  sess.run(init)\n",
        "  # Do 1000 rounds of training\n",
        "  for i in range(1000):\n",
        "    _, loss_value = sess.run((train, loss),\n",
        "                             feed_dict={x: x_values, y_true: y_values})\n",
        "    print(loss_value, end='\\r')\n",
        "\n",
        "  weights = sess.run(linear_model.weights)\n",
        "  bias = sess.run(linear_model.bias)\n",
        "  preds = sess.run(y_pred, \n",
        "                   feed_dict={x: x_values})\n",
        "  \n",
        "  print(\"The weight is: \", weights)\n",
        "  print('\\r')\n",
        "  print(\"The bias is: \", bias)\n",
        "  print('\\r')\n",
        "  print(\"The predictions are: \\n\", preds)"
      ],
      "execution_count": 15,
      "outputs": [
        {
          "output_type": "stream",
          "text": [
            "The weight is:  [array([[-0.988012]], dtype=float32), array([0.96475375], dtype=float32)]\n",
            "\n",
            "The bias is:  [0.96475375]\n",
            "\n",
            "The predictions are: \n",
            " [[-0.02325827]\n",
            " [-1.0112703 ]\n",
            " [-1.9992822 ]\n",
            " [-2.9872942 ]]\n"
          ],
          "name": "stdout"
        }
      ]
    },
    {
      "metadata": {
        "id": "7ilYm8Wu5dv9",
        "colab_type": "code",
        "colab": {}
      },
      "cell_type": "code",
      "source": [
        "# Get the weight\n",
        "w = weights[0].tolist()[0][0]"
      ],
      "execution_count": 0,
      "outputs": []
    },
    {
      "metadata": {
        "id": "aD0BmeBQ59rE",
        "colab_type": "code",
        "colab": {}
      },
      "cell_type": "code",
      "source": [
        "# Get the bias\n",
        "b = weights[1].tolist()[0]"
      ],
      "execution_count": 0,
      "outputs": []
    },
    {
      "metadata": {
        "id": "vD25uBEw6G4q",
        "colab_type": "code",
        "outputId": "6262720a-26cf-42c7-dd7f-8ee576154fbb",
        "colab": {
          "base_uri": "https://localhost:8080/",
          "height": 85
        }
      },
      "cell_type": "code",
      "source": [
        "# Make predictions based on the weight and bias\n",
        "x_values * w + b"
      ],
      "execution_count": 18,
      "outputs": [
        {
          "output_type": "execute_result",
          "data": {
            "text/plain": [
              "array([[-0.02325827],\n",
              "       [-1.01127028],\n",
              "       [-1.9992823 ],\n",
              "       [-2.98729432]])"
            ]
          },
          "metadata": {
            "tags": []
          },
          "execution_count": 18
        }
      ]
    },
    {
      "metadata": {
        "id": "NEHt6bmoAYik",
        "colab_type": "code",
        "colab": {}
      },
      "cell_type": "code",
      "source": [
        ""
      ],
      "execution_count": 0,
      "outputs": []
    }
  ]
}